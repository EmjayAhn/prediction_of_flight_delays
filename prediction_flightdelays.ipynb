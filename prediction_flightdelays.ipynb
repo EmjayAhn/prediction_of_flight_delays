{
 "cells": [
  {
   "cell_type": "markdown",
   "metadata": {},
   "source": [
    "# Predicting Flight Delays"
   ]
  },
  {
   "cell_type": "markdown",
   "metadata": {},
   "source": [
    "# 0. SETTINGS"
   ]
  },
  {
   "cell_type": "markdown",
   "metadata": {},
   "source": [
    "## 0-1. Import packages and modules"
   ]
  },
  {
   "cell_type": "code",
   "execution_count": null,
   "metadata": {},
   "outputs": [],
   "source": [
    "import numpy as np\n",
    "import pandas as pd\n",
    "import seaborn as sns\n",
    "import scipy as sp\n",
    "import matplotlib as mpl\n",
    "import matplotlib.pyplot as plt\n",
    "import datetime\n",
    "import math\n",
    "%matplotlib inline\n",
    "\n",
    "#font configuration\n",
    "import matplotlib.font_manager as fm\n",
    "font_location = \"/Library/Fonts/AppleGothic.ttf\"\n",
    "font_name = fm.FontProperties(fname=font_location).get_name()\n",
    "mpl.rc('font', family=font_name)\n"
   ]
  },
  {
   "cell_type": "markdown",
   "metadata": {},
   "source": [
    "## 0-2. Import CSV files"
   ]
  },
  {
   "cell_type": "code",
   "execution_count": null,
   "metadata": {},
   "outputs": [],
   "source": [
    "data_flights = pd.read_csv('./flights.csv')\n",
    "data_airplanes = pd.read_csv('./airlines.csv')\n",
    "data_airports = pd.read_csv('./airports.csv')"
   ]
  },
  {
   "cell_type": "markdown",
   "metadata": {},
   "source": [
    "# 1. Preparation of Data"
   ]
  },
  {
   "cell_type": "markdown",
   "metadata": {},
   "source": [
    "## 1-1. TimeSetting\n",
    "1. data_flights data의 날짜 Year, Month, Day를 한 feature로 만듭니다.\n",
    "    - 연/월/일 형태\n",
    "2. data_flights data의 시각정보인 `SCHEDULED_DEPARTURE`, `DEPARTURE_TIME`을 시각 표시인 **00:00** 로 변경합니다."
   ]
  },
  {
   "cell_type": "markdown",
   "metadata": {},
   "source": [
    "1. data_flights의 `YEAR_MONTH_DAY` column 생성"
   ]
  },
  {
   "cell_type": "code",
   "execution_count": null,
   "metadata": {},
   "outputs": [],
   "source": [
    "data_flights['YEAR_MONTH_DAY'] = pd.to_datetime(data_flights[['YEAR', 'MONTH', 'DAY']], format='%y/%m/%d')"
   ]
  },
  {
   "cell_type": "markdown",
   "metadata": {},
   "source": [
    "2. `SCHEDULED_DEPARTURE` 과 `DEPARTURE_TIME` 을 **00:00** 시각표시로 변경\n",
    "    - 시각 data의 format 을 변경해주는 함수 `converting_timeformat`"
   ]
  },
  {
   "cell_type": "code",
   "execution_count": null,
   "metadata": {},
   "outputs": [],
   "source": [
    "def converting_timeformat(series):\n",
    "    \"\"\"\n",
    "    data 상에 시각 표현을 00:00:00 형태로 변경하는 함수입니다.\n",
    "    parameter: type: series. format 을 변경하고 싶은 dataframe의 series를 넣어줍니다.\n",
    "    return : type: pandas.core.series.Series\n",
    "    \"\"\"\n",
    "    converted_timelist = []\n",
    "    for i in range(series.shape[0]):\n",
    "        if math.isnan(series[i]):\n",
    "            converted_timelist.append(math.nan)\n",
    "        else:\n",
    "            padding = \"{:04d}\".format(int(series[i]))\n",
    "            #24:00 이면, 00:00 로 바꿔줍니다. 날짜 처리 얘기해봐야됩니다.\n",
    "            if padding == \"2400\":\n",
    "                padding = \"0000\"\n",
    "            new_time_format = datetime.time(int(padding[0:2]), int(padding[2:4]))\n",
    "            converted_timelist.append(new_time_format)\n",
    "    \n",
    "    return pd.Series(converted_timelist)\n",
    "    "
   ]
  },
  {
   "cell_type": "code",
   "execution_count": null,
   "metadata": {},
   "outputs": [],
   "source": [
    "data_flights['formatted_SCHEDULED_DEPARTURE'] = converting_timeformat(data_flights['SCHEDULED_DEPARTURE'])"
   ]
  },
  {
   "cell_type": "code",
   "execution_count": null,
   "metadata": {},
   "outputs": [],
   "source": [
    "data_flights['formatted_DEPARTURE_TIME'] = converting_timeformat(data_flights['DEPARTURE_TIME'])"
   ]
  }
 ],
 "metadata": {
  "kernelspec": {
   "display_name": "Python 3",
   "language": "python",
   "name": "python3"
  },
  "language_info": {
   "codemirror_mode": {
    "name": "ipython",
    "version": 3
   },
   "file_extension": ".py",
   "mimetype": "text/x-python",
   "name": "python",
   "nbconvert_exporter": "python",
   "pygments_lexer": "ipython3",
   "version": "3.7.0"
  }
 },
 "nbformat": 4,
 "nbformat_minor": 2
}
