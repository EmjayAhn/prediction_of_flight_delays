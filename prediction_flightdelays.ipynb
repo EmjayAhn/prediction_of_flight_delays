{
 "cells": [
  {
   "cell_type": "markdown",
   "metadata": {},
   "source": [
    "# Predicting Flight Delays"
   ]
  },
  {
   "cell_type": "markdown",
   "metadata": {},
   "source": [
    "# 0. SETTINGS"
   ]
  },
  {
   "cell_type": "markdown",
   "metadata": {},
   "source": [
    "## 0-1. Import packages and modules"
   ]
  },
  {
   "cell_type": "code",
   "execution_count": 1,
   "metadata": {},
   "outputs": [],
   "source": [
    "import numpy as np\n",
    "import pandas as pd\n",
    "import seaborn as sns\n",
    "import scipy as sp\n",
    "import matplotlib as mpl\n",
    "import matplotlib.pyplot as plt\n",
    "import datetime\n",
    "import math\n",
    "%matplotlib inline\n",
    "\n",
    "#font configuration\n",
    "import matplotlib.font_manager as fm\n",
    "font_location = \"/Library/Fonts/AppleGothic.ttf\"\n",
    "font_name = fm.FontProperties(fname=font_location).get_name()\n",
    "mpl.rc('font', family=font_name)\n"
   ]
  },
  {
   "cell_type": "markdown",
   "metadata": {},
   "source": [
    "## 0-2. Import CSV files"
   ]
  },
  {
   "cell_type": "code",
   "execution_count": 2,
   "metadata": {},
   "outputs": [],
   "source": [
    "data_flights = pd.read_csv('./flights.csv')\n",
    "data_airplanes = pd.read_csv('./airlines.csv')\n",
    "data_airports = pd.read_csv('./airports.csv')"
   ]
  },
  {
   "cell_type": "markdown",
   "metadata": {},
   "source": [
    "# 1. Preparation of Data"
   ]
  },
  {
   "cell_type": "markdown",
   "metadata": {},
   "source": [
    "## 1-0. Data Inspection"
   ]
  },
  {
   "cell_type": "markdown",
   "metadata": {},
   "source": [
    "## 1-1. TimeSetting\n",
    "1. data_flights data의 날짜 Year, Month, Day를 한 feature로 만듭니다.\n",
    "    - 연/월/일 형태\n",
    "2. data_flights data의 시각정보인 `SCHEDULED_DEPARTURE`, `DEPARTURE_TIME`을 시각 표시인 **00:00** 로 변경합니다."
   ]
  },
  {
   "cell_type": "markdown",
   "metadata": {},
   "source": [
    "1. data_flights의 `YEAR_MONTH_DAY` column 생성"
   ]
  },
  {
   "cell_type": "code",
   "execution_count": null,
   "metadata": {},
   "outputs": [],
   "source": [
    "data_flights['YEAR_MONTH_DAY'] = pd.to_datetime(data_flights[['YEAR', 'MONTH', 'DAY']], format='%y/%m/%d')"
   ]
  },
  {
   "cell_type": "markdown",
   "metadata": {},
   "source": [
    "2. `SCHEDULED_DEPARTURE` 과 `DEPARTURE_TIME` 을 **00:00** 시각표시로 변경\n",
    "    - 시각 data의 format 을 변경해주는 함수 `converting_timeformat`"
   ]
  },
  {
   "cell_type": "code",
   "execution_count": null,
   "metadata": {},
   "outputs": [],
   "source": [
    "def converting_timeformat(series):\n",
    "    \"\"\"\n",
    "    data 상에 시각 표현을 00:00:00 형태로 변경하는 함수입니다.\n",
    "    parameter: type: series. format 을 변경하고 싶은 dataframe의 series를 넣어줍니다.\n",
    "    return : type: pandas.core.series.Series\n",
    "    \"\"\"\n",
    "    converted_timelist = []\n",
    "    for i in range(series.shape[0]):\n",
    "        if math.isnan(series[i]):\n",
    "            converted_timelist.append(math.nan)\n",
    "        else:\n",
    "            padding = \"{:04d}\".format(int(series[i]))\n",
    "            #24:00 이면, 00:00 로 바꿔줍니다. 날짜 처리 얘기해봐야됩니다.\n",
    "            if padding == \"2400\":\n",
    "                padding = \"0000\"\n",
    "            new_time_format = datetime.time(int(padding[0:2]), int(padding[2:4]))\n",
    "            converted_timelist.append(new_time_format)\n",
    "    \n",
    "    return pd.Series(converted_timelist)\n",
    "    "
   ]
  },
  {
   "cell_type": "code",
   "execution_count": null,
   "metadata": {},
   "outputs": [],
   "source": [
    "data_flights['formatted_SCHEDULED_DEPARTURE'] = converting_timeformat(data_flights['SCHEDULED_DEPARTURE'])"
   ]
  },
  {
   "cell_type": "code",
   "execution_count": null,
   "metadata": {},
   "outputs": [],
   "source": [
    "data_flights['formatted_DEPARTURE_TIME'] = converting_timeformat(data_flights['DEPARTURE_TIME'])"
   ]
  },
  {
   "cell_type": "markdown",
   "metadata": {},
   "source": [
    "## 1-2 누락값 처리\n",
    "- data_flights의 `DEPARTURE_DELAY`의 평균으로 NaN 값 매꾸기\n",
    "- 이것에 대한 정당성은 이야기해봐야 될 것 같습니다.\n",
    "- 1. 없애거나 2. 다른 통계량으로 채워넣거나, 3. 다른 방법론으로 추정하거나"
   ]
  },
  {
   "cell_type": "code",
   "execution_count": 7,
   "metadata": {},
   "outputs": [
    {
     "data": {
      "text/plain": [
       "0          -11.0\n",
       "1           -8.0\n",
       "2           -2.0\n",
       "3           -5.0\n",
       "4           -1.0\n",
       "5           -5.0\n",
       "6           -6.0\n",
       "7           14.0\n",
       "8          -11.0\n",
       "9            3.0\n",
       "10          -6.0\n",
       "11          -8.0\n",
       "12           0.0\n",
       "13          -6.0\n",
       "14          -1.0\n",
       "15          -4.0\n",
       "16         -14.0\n",
       "17          -6.0\n",
       "18          -4.0\n",
       "19          -5.0\n",
       "20          25.0\n",
       "21          -8.0\n",
       "22          -1.0\n",
       "23          -2.0\n",
       "24          -3.0\n",
       "25          -3.0\n",
       "26          -8.0\n",
       "27          12.0\n",
       "28         -10.0\n",
       "29          21.0\n",
       "           ...  \n",
       "5819049      2.0\n",
       "5819050      2.0\n",
       "5819051     16.0\n",
       "5819052    -15.0\n",
       "5819053      0.0\n",
       "5819054     -5.0\n",
       "5819055     -2.0\n",
       "5819056     -3.0\n",
       "5819057     13.0\n",
       "5819058     -7.0\n",
       "5819059     -8.0\n",
       "5819060     -5.0\n",
       "5819061     -3.0\n",
       "5819062      6.0\n",
       "5819063      2.0\n",
       "5819064     -3.0\n",
       "5819065     -7.0\n",
       "5819066     -2.0\n",
       "5819067     -8.0\n",
       "5819068     -1.0\n",
       "5819069    159.0\n",
       "5819070      0.0\n",
       "5819071     16.0\n",
       "5819072      7.0\n",
       "5819073     16.0\n",
       "5819074     -4.0\n",
       "5819075     -4.0\n",
       "5819076     -9.0\n",
       "5819077     -6.0\n",
       "5819078     15.0\n",
       "Name: DEPARTURE_DELAY, Length: 5819079, dtype: float64"
      ]
     },
     "execution_count": 7,
     "metadata": {},
     "output_type": "execute_result"
    }
   ],
   "source": [
    "mean_of_departure_delay = data_flights['DEPARTURE_DELAY'].mean()\n",
    "#mean_of_departure_delay = 9.370158275198389\n",
    "#'DEPARTURE_DELAY'의 NaN 값을 mean_of_departure_delay 로 변경\n",
    "data_flights['DEPARTURE_DELAY'].fillna(mean_of_departure_delay)"
   ]
  },
  {
   "cell_type": "code",
   "execution_count": 8,
   "metadata": {},
   "outputs": [],
   "source": [
    "#DEPARTURE_DELAY 를 통해 DEPARTURE_TIME 의 NaN 값 처리\n",
    "data_flights['DEPARTURE_TIME'] = data_flights['SCHEDULED_TIME'] + data_flights['DEPARTURE_DELAY']"
   ]
  },
  {
   "cell_type": "code",
   "execution_count": null,
   "metadata": {},
   "outputs": [],
   "source": []
  }
 ],
 "metadata": {
  "kernelspec": {
   "display_name": "Python 3",
   "language": "python",
   "name": "python3"
  },
  "language_info": {
   "codemirror_mode": {
    "name": "ipython",
    "version": 3
   },
   "file_extension": ".py",
   "mimetype": "text/x-python",
   "name": "python",
   "nbconvert_exporter": "python",
   "pygments_lexer": "ipython3",
   "version": "3.7.0"
  }
 },
 "nbformat": 4,
 "nbformat_minor": 2
}
